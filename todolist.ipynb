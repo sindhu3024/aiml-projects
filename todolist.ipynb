{
  "nbformat": 4,
  "nbformat_minor": 0,
  "metadata": {
    "colab": {
      "provenance": [],
      "authorship_tag": "ABX9TyP373B2OehqDXOQpjeZr3/O",
      "include_colab_link": true
    },
    "kernelspec": {
      "name": "python3",
      "display_name": "Python 3"
    },
    "language_info": {
      "name": "python"
    }
  },
  "cells": [
    {
      "cell_type": "markdown",
      "metadata": {
        "id": "view-in-github",
        "colab_type": "text"
      },
      "source": [
        "<a href=\"https://colab.research.google.com/github/kaartheeka/Machine-learning-projects/blob/main/todolist.ipynb\" target=\"_parent\"><img src=\"https://colab.research.google.com/assets/colab-badge.svg\" alt=\"Open In Colab\"/></a>"
      ]
    },
    {
      "cell_type": "code",
      "execution_count": null,
      "metadata": {
        "colab": {
          "base_uri": "https://localhost:8080/"
        },
        "id": "syo7V0GPJqKW",
        "outputId": "bf084e1e-471b-4216-a15f-a8991a0fdcb4"
      },
      "outputs": [
        {
          "output_type": "stream",
          "name": "stdout",
          "text": [
            "\n",
            "==== TO-DO LIST MENU ====\n",
            "1. View tasks\n",
            "2. Add task\n",
            "3. Mark task as complete\n",
            "4. Delete task\n",
            "5. Exit\n",
            "Choose an option (1-5): 1\n",
            "Your to-do list is empty.\n",
            "\n",
            "==== TO-DO LIST MENU ====\n",
            "1. View tasks\n",
            "2. Add task\n",
            "3. Mark task as complete\n",
            "4. Delete task\n",
            "5. Exit\n",
            "Choose an option (1-5): 2\n",
            "Enter new task: drink tea\n",
            "Task added.\n",
            "\n",
            "==== TO-DO LIST MENU ====\n",
            "1. View tasks\n",
            "2. Add task\n",
            "3. Mark task as complete\n",
            "4. Delete task\n",
            "5. Exit\n",
            "Choose an option (1-5): 1\n",
            "\n",
            "Your Tasks:\n",
            "1. drink tea [❌]\n",
            "\n",
            "==== TO-DO LIST MENU ====\n",
            "1. View tasks\n",
            "2. Add task\n",
            "3. Mark task as complete\n",
            "4. Delete task\n",
            "5. Exit\n"
          ]
        }
      ],
      "source": [
        "# Simple To-Do List App (Command-Line Version)\n",
        "\n",
        "todo_list = []\n",
        "\n",
        "def show_menu():\n",
        "    print(\"\\n==== TO-DO LIST MENU ====\")\n",
        "    print(\"1. View tasks\")\n",
        "    print(\"2. Add task\")\n",
        "    print(\"3. Mark task as complete\")\n",
        "    print(\"4. Delete task\")\n",
        "    print(\"5. Exit\")\n",
        "\n",
        "def view_tasks():\n",
        "    if not todo_list:\n",
        "        print(\"Your to-do list is empty.\")\n",
        "    else:\n",
        "        print(\"\\nYour Tasks:\")\n",
        "        for index, task in enumerate(todo_list):\n",
        "            status = \"✅\" if task[\"done\"] else \"❌\"\n",
        "            print(f\"{index + 1}. {task['task']} [{status}]\")\n",
        "\n",
        "def add_task():\n",
        "    task_name = input(\"Enter new task: \")\n",
        "    todo_list.append({\"task\": task_name, \"done\": False})\n",
        "    print(\"Task added.\")\n",
        "\n",
        "def mark_complete():\n",
        "    view_tasks()\n",
        "    try:\n",
        "        task_no = int(input(\"Enter task number to mark complete: \")) - 1\n",
        "        if 0 <= task_no < len(todo_list):\n",
        "            todo_list[task_no][\"done\"] = True\n",
        "            print(\"Task marked as complete.\")\n",
        "        else:\n",
        "            print(\"Invalid task number.\")\n",
        "    except ValueError:\n",
        "        print(\"Please enter a valid number.\")\n",
        "\n",
        "def delete_task():\n",
        "    view_tasks()\n",
        "    try:\n",
        "        task_no = int(input(\"Enter task number to delete: \")) - 1\n",
        "        if 0 <= task_no < len(todo_list):\n",
        "            removed = todo_list.pop(task_no)\n",
        "            print(f\"Deleted task: {removed['task']}\")\n",
        "        else:\n",
        "            print(\"Invalid task number.\")\n",
        "    except ValueError:\n",
        "        print(\"Please enter a valid number.\")\n",
        "\n",
        "# Main loop\n",
        "while True:\n",
        "    show_menu()\n",
        "    choice = input(\"Choose an option (1-5): \")\n",
        "\n",
        "    if choice == '1':\n",
        "        view_tasks()\n",
        "    elif choice == '2':\n",
        "        add_task()\n",
        "    elif choice == '3':\n",
        "        mark_complete()\n",
        "    elif choice == '4':\n",
        "        delete_task()\n",
        "    elif choice == '5':\n",
        "        print(\"Goodbye!\")\n",
        "        break\n",
        "    else:\n",
        "        print(\"Invalid choice. Please try again.\")\n"
      ]
    }
  ]
}