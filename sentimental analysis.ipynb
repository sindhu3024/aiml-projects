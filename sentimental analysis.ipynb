{
  "nbformat": 4,
  "nbformat_minor": 0,
  "metadata": {
    "colab": {
      "provenance": [],
      "authorship_tag": "ABX9TyO+2CeAaD1fmPwkDR6kcFfu",
      "include_colab_link": true
    },
    "kernelspec": {
      "name": "python3",
      "display_name": "Python 3"
    },
    "language_info": {
      "name": "python"
    }
  },
  "cells": [
    {
      "cell_type": "markdown",
      "metadata": {
        "id": "view-in-github",
        "colab_type": "text"
      },
      "source": [
        "<a href=\"https://colab.research.google.com/github/kaartheeka/Machine-learning-projects/blob/main/sentimental%20analysis.ipynb\" target=\"_parent\"><img src=\"https://colab.research.google.com/assets/colab-badge.svg\" alt=\"Open In Colab\"/></a>"
      ]
    },
    {
      "cell_type": "code",
      "execution_count": 1,
      "metadata": {
        "colab": {
          "base_uri": "https://localhost:8080/"
        },
        "id": "ATzDhB8_I7v-",
        "outputId": "188755c2-eb05-4756-cbbf-f8cd712ade01"
      },
      "outputs": [
        {
          "output_type": "stream",
          "name": "stdout",
          "text": [
            "Requirement already satisfied: textblob in /usr/local/lib/python3.11/dist-packages (0.19.0)\n",
            "Requirement already satisfied: nltk>=3.9 in /usr/local/lib/python3.11/dist-packages (from textblob) (3.9.1)\n",
            "Requirement already satisfied: click in /usr/local/lib/python3.11/dist-packages (from nltk>=3.9->textblob) (8.2.1)\n",
            "Requirement already satisfied: joblib in /usr/local/lib/python3.11/dist-packages (from nltk>=3.9->textblob) (1.5.1)\n",
            "Requirement already satisfied: regex>=2021.8.3 in /usr/local/lib/python3.11/dist-packages (from nltk>=3.9->textblob) (2024.11.6)\n",
            "Requirement already satisfied: tqdm in /usr/local/lib/python3.11/dist-packages (from nltk>=3.9->textblob) (4.67.1)\n"
          ]
        }
      ],
      "source": [
        "pip install textblob\n"
      ]
    },
    {
      "cell_type": "code",
      "source": [
        "!pip install textblob\n",
        "!python -m textblob.download_corpora\n"
      ],
      "metadata": {
        "colab": {
          "base_uri": "https://localhost:8080/"
        },
        "id": "IxKndK5EJCy9",
        "outputId": "e6340b8c-453c-4a9b-f3d2-88c6fb303952"
      },
      "execution_count": 4,
      "outputs": [
        {
          "output_type": "stream",
          "name": "stdout",
          "text": [
            "Requirement already satisfied: textblob in /usr/local/lib/python3.11/dist-packages (0.19.0)\n",
            "Requirement already satisfied: nltk>=3.9 in /usr/local/lib/python3.11/dist-packages (from textblob) (3.9.1)\n",
            "Requirement already satisfied: click in /usr/local/lib/python3.11/dist-packages (from nltk>=3.9->textblob) (8.2.1)\n",
            "Requirement already satisfied: joblib in /usr/local/lib/python3.11/dist-packages (from nltk>=3.9->textblob) (1.5.1)\n",
            "Requirement already satisfied: regex>=2021.8.3 in /usr/local/lib/python3.11/dist-packages (from nltk>=3.9->textblob) (2024.11.6)\n",
            "Requirement already satisfied: tqdm in /usr/local/lib/python3.11/dist-packages (from nltk>=3.9->textblob) (4.67.1)\n",
            "[nltk_data] Downloading package brown to /root/nltk_data...\n",
            "[nltk_data]   Unzipping corpora/brown.zip.\n",
            "[nltk_data] Downloading package punkt_tab to /root/nltk_data...\n",
            "[nltk_data]   Unzipping tokenizers/punkt_tab.zip.\n",
            "[nltk_data] Downloading package wordnet to /root/nltk_data...\n",
            "[nltk_data] Downloading package averaged_perceptron_tagger_eng to\n",
            "[nltk_data]     /root/nltk_data...\n",
            "[nltk_data]   Unzipping taggers/averaged_perceptron_tagger_eng.zip.\n",
            "[nltk_data] Downloading package conll2000 to /root/nltk_data...\n",
            "[nltk_data]   Unzipping corpora/conll2000.zip.\n",
            "[nltk_data] Downloading package movie_reviews to /root/nltk_data...\n",
            "[nltk_data]   Unzipping corpora/movie_reviews.zip.\n",
            "Finished.\n"
          ]
        }
      ]
    },
    {
      "cell_type": "code",
      "source": [
        "from textblob import TextBlob\n",
        "\n",
        "# Sample texts for analysis\n",
        "texts = [\n",
        "    \"I love this product! It works like a charm.\",\n",
        "    \"This is the worst experience I’ve ever had.\",\n",
        "    \"The movie was okay, not great but not bad either.\",\n",
        "    \"I'm so happy with the service!\",\n",
        "    \"I'm not sure how I feel about this.\"\n",
        "]\n",
        "\n",
        "# Analyzing sentiment\n",
        "for text in texts:\n",
        "    blob = TextBlob(text)\n",
        "    sentiment = blob.sentiment\n",
        "\n",
        "    # Sentiment.polarity ranges from -1 (negative) to 1 (positive)\n",
        "    if sentiment.polarity > 0:\n",
        "        label = \"Positive 😊\"\n",
        "    elif sentiment.polarity < 0:\n",
        "        label = \"Negative 😠\"\n",
        "    else:\n",
        "        label = \"Neutral 😐\"\n",
        "\n",
        "    print(f\"Text: {text}\")\n",
        "    print(f\"Sentiment Polarity: {sentiment.polarity:.2f} | Subjectivity: {sentiment.subjectivity:.2f}\")\n",
        "    print(f\"Sentiment Label: {label}\")\n",
        "    print(\"-\" * 60)\n"
      ],
      "metadata": {
        "colab": {
          "base_uri": "https://localhost:8080/"
        },
        "id": "609TLy-_JE21",
        "outputId": "f20db268-c37d-4261-b5ab-3af382813c9f"
      },
      "execution_count": 3,
      "outputs": [
        {
          "output_type": "stream",
          "name": "stdout",
          "text": [
            "Text: I love this product! It works like a charm.\n",
            "Sentiment Polarity: 0.62 | Subjectivity: 0.60\n",
            "Sentiment Label: Positive 😊\n",
            "------------------------------------------------------------\n",
            "Text: This is the worst experience I’ve ever had.\n",
            "Sentiment Polarity: -1.00 | Subjectivity: 1.00\n",
            "Sentiment Label: Negative 😠\n",
            "------------------------------------------------------------\n",
            "Text: The movie was okay, not great but not bad either.\n",
            "Sentiment Polarity: 0.15 | Subjectivity: 0.64\n",
            "Sentiment Label: Positive 😊\n",
            "------------------------------------------------------------\n",
            "Text: I'm so happy with the service!\n",
            "Sentiment Polarity: 1.00 | Subjectivity: 1.00\n",
            "Sentiment Label: Positive 😊\n",
            "------------------------------------------------------------\n",
            "Text: I'm not sure how I feel about this.\n",
            "Sentiment Polarity: -0.25 | Subjectivity: 0.89\n",
            "Sentiment Label: Negative 😠\n",
            "------------------------------------------------------------\n"
          ]
        }
      ]
    }
  ]
}